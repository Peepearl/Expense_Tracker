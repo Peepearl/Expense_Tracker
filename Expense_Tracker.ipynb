{
 "cells": [
  {
   "cell_type": "code",
   "execution_count": 1,
   "id": "67f971e2-1cd3-49ea-99f0-8eff23673c4c",
   "metadata": {},
   "outputs": [
    {
     "name": "stdout",
     "output_type": "stream",
     "text": [
      "\n",
      "Expense Tracker\n",
      "1. Add Expense\n",
      "2. View Expenses\n",
      "3. Get Total Expense\n",
      "4. Exit\n"
     ]
    },
    {
     "name": "stdin",
     "output_type": "stream",
     "text": [
      "Choose an option:  1\n",
      "Enter expense name:  Iphnoe\n",
      "Enter expense amount:  500000\n",
      "Enter expense category:  gadget\n"
     ]
    },
    {
     "name": "stdout",
     "output_type": "stream",
     "text": [
      "Expense added.\n",
      "\n",
      "Expense Tracker\n",
      "1. Add Expense\n",
      "2. View Expenses\n",
      "3. Get Total Expense\n",
      "4. Exit\n"
     ]
    },
    {
     "name": "stdin",
     "output_type": "stream",
     "text": [
      "Choose an option:  2\n"
     ]
    },
    {
     "name": "stdout",
     "output_type": "stream",
     "text": [
      "\n",
      "Expenses:\n",
      "• Iphnoe | #500000.00 | Category: gadget\n",
      "\n",
      "Expense Tracker\n",
      "1. Add Expense\n",
      "2. View Expenses\n",
      "3. Get Total Expense\n",
      "4. Exit\n"
     ]
    },
    {
     "name": "stdin",
     "output_type": "stream",
     "text": [
      "Choose an option:  3\n"
     ]
    },
    {
     "name": "stdout",
     "output_type": "stream",
     "text": [
      "\n",
      "Total Expense: #500000.00\n",
      "\n",
      "Expense Tracker\n",
      "1. Add Expense\n",
      "2. View Expenses\n",
      "3. Get Total Expense\n",
      "4. Exit\n"
     ]
    },
    {
     "name": "stdin",
     "output_type": "stream",
     "text": [
      "Choose an option:  4\n"
     ]
    },
    {
     "name": "stdout",
     "output_type": "stream",
     "text": [
      "Exiting. Goodbye!\n"
     ]
    }
   ],
   "source": [
    "class Expense:\n",
    "    def __init__(self, name, amount, category):\n",
    "        self.name = name\n",
    "        self.amount = amount\n",
    "        self.category = category\n",
    "\n",
    "    def __str__(self):\n",
    "        return f\"{self.name} | #{self.amount:.2f} | Category: {self.category}\"\n",
    "\n",
    "\n",
    "class ExpenseTracker:\n",
    "    def __init__(self):\n",
    "        self.expenses = []\n",
    "\n",
    "    def add_expense(self, expense):\n",
    "        self.expenses.append(expense)\n",
    "\n",
    "    def display_expenses(self):\n",
    "        if not self.expenses:\n",
    "            print(\"No expenses recorded.\")\n",
    "        else:\n",
    "            for expense in self.expenses:\n",
    "                print(f\"• {expense}\")\n",
    "\n",
    "    def get_total_expense(self):\n",
    "        return sum(exp.amount for exp in self.expenses)\n",
    "\n",
    "\n",
    "def main():\n",
    "    \"\"\"\n",
    "    Main function to run the Expense Tracker application.\n",
    "    \"\"\"\n",
    "    tracker = ExpenseTracker()\n",
    "    while True:\n",
    "        print(\"\\nExpense Tracker\")\n",
    "        print(\"1. Add Expense\")\n",
    "        print(\"2. View Expenses\")\n",
    "        print(\"3. Get Total Expense\")\n",
    "        print(\"4. Exit\")\n",
    "\n",
    "        choice = input(\"Choose an option: \")\n",
    "        if choice == \"1\":\n",
    "            name = input(\"Enter expense name: \")\n",
    "            try:\n",
    "                amount = float(input(\"Enter expense amount: \"))\n",
    "            except ValueError:\n",
    "                print(\"Invalid amount. Please enter a number.\")\n",
    "                continue\n",
    "            category = input(\"Enter expense category: \")\n",
    "            expense = Expense(name, amount, category)\n",
    "            tracker.add_expense(expense)\n",
    "            print(\"Expense added.\")\n",
    "        elif choice == \"2\":\n",
    "            print(\"\\nExpenses:\")\n",
    "            tracker.display_expenses()\n",
    "        elif choice == \"3\":\n",
    "            total = tracker.get_total_expense()\n",
    "            print(f\"\\nTotal Expense: #{total:.2f}\")\n",
    "        elif choice == \"4\":\n",
    "            print(\"Exiting. Goodbye!\")\n",
    "            break\n",
    "        else:\n",
    "            print(\"Invalid choice. Please try again.\")\n",
    "            \n",
    "\n",
    "# Run the app\n",
    "main()\n",
    "\n"
   ]
  },
  {
   "cell_type": "code",
   "execution_count": null,
   "id": "79be71f3-a6f6-4432-ba00-c195c2051e1a",
   "metadata": {},
   "outputs": [],
   "source": []
  },
  {
   "cell_type": "code",
   "execution_count": null,
   "id": "c3f5b842-023e-4be3-bb8b-a3b661387302",
   "metadata": {},
   "outputs": [],
   "source": []
  }
 ],
 "metadata": {
  "kernelspec": {
   "display_name": "Python [conda env:base] *",
   "language": "python",
   "name": "conda-base-py"
  },
  "language_info": {
   "codemirror_mode": {
    "name": "ipython",
    "version": 3
   },
   "file_extension": ".py",
   "mimetype": "text/x-python",
   "name": "python",
   "nbconvert_exporter": "python",
   "pygments_lexer": "ipython3",
   "version": "3.11.5"
  }
 },
 "nbformat": 4,
 "nbformat_minor": 5
}
